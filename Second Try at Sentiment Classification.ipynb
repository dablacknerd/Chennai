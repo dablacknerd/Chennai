{
 "cells": [
  {
   "cell_type": "code",
   "execution_count": 1,
   "metadata": {},
   "outputs": [],
   "source": [
    "import pandas as pd\n",
    "import numpy as np"
   ]
  },
  {
   "cell_type": "code",
   "execution_count": 2,
   "metadata": {},
   "outputs": [],
   "source": [
    "df = pd.read_csv('chennai_reviews_2.csv')"
   ]
  },
  {
   "cell_type": "code",
   "execution_count": 3,
   "metadata": {},
   "outputs": [],
   "source": [
    "from sklearn.feature_extraction.text import CountVectorizer,TfidfTransformer\n",
    "from sklearn.model_selection import train_test_split"
   ]
  },
  {
   "cell_type": "code",
   "execution_count": 4,
   "metadata": {},
   "outputs": [],
   "source": [
    "X = df['Review_Text']\n",
    "y = df['Sentiment']"
   ]
  },
  {
   "cell_type": "code",
   "execution_count": 7,
   "metadata": {},
   "outputs": [],
   "source": [
    "X_train,X_test,y_train,y_test = train_test_split(X,y,test_size=0.30,random_state=42)"
   ]
  },
  {
   "cell_type": "code",
   "execution_count": 29,
   "metadata": {},
   "outputs": [],
   "source": [
    "vect = CountVectorizer(stop_words='english')\n",
    "tf_idf = TfidfTransformer()"
   ]
  },
  {
   "cell_type": "code",
   "execution_count": 30,
   "metadata": {},
   "outputs": [],
   "source": [
    "X_train_count_vect = vect.fit_transform(X_train)\n",
    "X_test_count_vect = vect.fit_transform(X_test)"
   ]
  },
  {
   "cell_type": "code",
   "execution_count": 31,
   "metadata": {},
   "outputs": [],
   "source": [
    "X_train_tf_idf = tf_idf.fit_transform(X_train_count_vect)\n",
    "X_test_tf_idf = tf_idf.fit_transform(X_test_count_vect)"
   ]
  },
  {
   "cell_type": "code",
   "execution_count": 14,
   "metadata": {},
   "outputs": [],
   "source": [
    "from sklearn.naive_bayes import ComplementNB\n",
    "from sklearn.model_selection import cross_val_score"
   ]
  },
  {
   "cell_type": "code",
   "execution_count": 25,
   "metadata": {},
   "outputs": [
    {
     "name": "stdout",
     "output_type": "stream",
     "text": [
      "CV 5 Mean Accuracy for Complement NB: 0.78\n",
      "\n",
      "\n",
      "CV 10 Mean Accuracy for Complement NB: 0.79\n"
     ]
    }
   ],
   "source": [
    "cnb_clf = ComplementNB()\n",
    "cnb_scores_5 = cross_val_score(cnb_clf,X_train_tf_idf,y_train,scoring='accuracy',cv=5)\n",
    "cnb_scores_10 = cross_val_score(cnb_clf,X_train_tf_idf,y_train,scoring='accuracy',cv=10)\n",
    "print('CV 5 Mean Accuracy for Complement NB: {}'.format(round(cnb_scores_5.mean(),2)))\n",
    "print('\\n')\n",
    "print('CV 10 Mean Accuracy for Complement NB: {}'.format(round(cnb_scores_10.mean(),2)))"
   ]
  },
  {
   "cell_type": "markdown",
   "metadata": {},
   "source": [
    "Without Stop Words:\n",
    "\n",
    "CV 5 Mean Accuracy for Complement NB: 0.79\n",
    "\n",
    "CV 10 Mean Accuracy for Complement NB: 0.78"
   ]
  },
  {
   "cell_type": "markdown",
   "metadata": {},
   "source": [
    "With Stop Words:\n",
    "\n",
    "CV 5 Mean Accuracy for Complement NB: 0.78\n",
    "\n",
    "\n",
    "CV 10 Mean Accuracy for Complement NB: 0.79"
   ]
  },
  {
   "cell_type": "code",
   "execution_count": 27,
   "metadata": {},
   "outputs": [],
   "source": [
    "from sklearn.svm import SVC"
   ]
  },
  {
   "cell_type": "code",
   "execution_count": 32,
   "metadata": {},
   "outputs": [
    {
     "name": "stdout",
     "output_type": "stream",
     "text": [
      "CV 5 Mean Accuracy for Linear SVC: 0.82\n",
      "\n",
      "\n",
      "CV 10 Mean Accuracy for Linear SVC: 0.82\n"
     ]
    }
   ],
   "source": [
    "svc_clf = SVC(gamma='scale',kernel='linear')\n",
    "svc_scores_5 = cross_val_score(svc_clf,X_train_tf_idf,y_train,scoring='accuracy',cv=5)\n",
    "svc_scores_10 = cross_val_score(svc_clf,X_train_tf_idf,y_train,scoring='accuracy',cv=10)\n",
    "\n",
    "print('CV 5 Mean Accuracy for Linear SVC: {}'.format(round(svc_scores_5.mean(),2)))\n",
    "print('\\n')\n",
    "print('CV 10 Mean Accuracy for Linear SVC: {}'.format(round(svc_scores_10.mean(),2)))"
   ]
  },
  {
   "cell_type": "markdown",
   "metadata": {},
   "source": [
    "With Stop Words:\n",
    "\n",
    "CV 5 Mean Accuracy for Linear SVC: 0.83\n",
    "\n",
    "CV 10 Mean Accuracy for Linear SVC: 0.83"
   ]
  },
  {
   "cell_type": "markdown",
   "metadata": {},
   "source": [
    "Without Stop Words:\n",
    "\n",
    "CV 5 Mean Accuracy for Linear SVC: 0.82\n",
    "\n",
    "\n",
    "CV 10 Mean Accuracy for Linear SVC: 0.82"
   ]
  },
  {
   "cell_type": "code",
   "execution_count": null,
   "metadata": {},
   "outputs": [],
   "source": []
  }
 ],
 "metadata": {
  "kernelspec": {
   "display_name": "Python 3",
   "language": "python",
   "name": "python3"
  },
  "language_info": {
   "codemirror_mode": {
    "name": "ipython",
    "version": 3
   },
   "file_extension": ".py",
   "mimetype": "text/x-python",
   "name": "python",
   "nbconvert_exporter": "python",
   "pygments_lexer": "ipython3",
   "version": "3.6.7"
  }
 },
 "nbformat": 4,
 "nbformat_minor": 2
}
